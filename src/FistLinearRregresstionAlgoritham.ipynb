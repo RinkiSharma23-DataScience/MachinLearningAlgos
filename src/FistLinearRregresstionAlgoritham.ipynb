{
 "cells": [
  {
   "cell_type": "code",
   "execution_count": 27,
   "metadata": {},
   "outputs": [],
   "source": [
    "import numpy as  np\n",
    "data = np.loadtxt(\"/Users/roopakpanda/Downloads/data.csv\", delimiter=\",\")"
   ]
  },
  {
   "cell_type": "code",
   "execution_count": 28,
   "metadata": {},
   "outputs": [
    {
     "data": {
      "text/plain": [
       "(100,)"
      ]
     },
     "execution_count": 28,
     "metadata": {},
     "output_type": "execute_result"
    }
   ],
   "source": [
    "#We are taking data in linear form as an array of both the columns\n",
    "x = data[:,0]\n",
    "y = data[:,1]\n",
    "x.shape\n"
   ]
  },
  {
   "cell_type": "code",
   "execution_count": 29,
   "metadata": {},
   "outputs": [],
   "source": [
    "from sklearn import model_selection"
   ]
  },
  {
   "cell_type": "code",
   "execution_count": 30,
   "metadata": {},
   "outputs": [
    {
     "data": {
      "text/plain": [
       "(70,)"
      ]
     },
     "execution_count": 30,
     "metadata": {},
     "output_type": "execute_result"
    }
   ],
   "source": [
    "#taking the data separately for testing and training\n",
    "x_train,x_test,y_train,y_test = model_selection.train_test_split(x,y,test_size = 0.3)\n",
    "x_train.shape\n"
   ]
  },
  {
   "cell_type": "code",
   "execution_count": 34,
   "metadata": {},
   "outputs": [],
   "source": [
    "#this function will calculate the slope and constant of the line\n",
    "def fit(x_train,y_train):\n",
    "    #Here we will calculate the numerator \n",
    "    num =(x_train * y_train).mean()-x_train.mean() * y_train.mean()\n",
    "    #Here we will calculate the dDenominator \n",
    "    den =(x_train ** 2).mean() - x_train.mean()**2\n",
    "    #To calculate the slope\n",
    "    m = num/den\n",
    "    c = y_train.mean()-m*x_train.mean()\n",
    "    return m,c\n",
    "#To calculate the prediction using the test data,slope and constant\n",
    "def predict(x,m,c):\n",
    "    return m*x*c\n",
    "\n",
    "#To calculate the score using the Y_test data and predicted value\n",
    "def score(y_truth,y_pred):\n",
    "    u =((y_truth -y_pred)**2).sum()\n",
    "    v =((y_truth -y_truth.mean())**2).sum()\n",
    "    return 1-u/v\n",
    "\n",
    "#To calculate the cost function\n",
    "def cost(x,y,m,c):\n",
    "    return ((y-m*x-c)**2).mean()"
   ]
  },
  {
   "cell_type": "code",
   "execution_count": 35,
   "metadata": {},
   "outputs": [
    {
     "name": "stdout",
     "output_type": "stream",
     "text": [
      "1.4207402800170787 4.036326116716523\n"
     ]
    }
   ],
   "source": [
    "#To get the slope and constant \n",
    "m,c = fit (x_train,y_train)\n",
    "print(m,c)"
   ]
  },
  {
   "cell_type": "code",
   "execution_count": 36,
   "metadata": {},
   "outputs": [
    {
     "name": "stdout",
     "output_type": "stream",
     "text": [
      "Test score: -284.3558724727526\n",
      "Train score: -135.54437584035438\n",
      "m,c 1.4207402800170787 4.036326116716523\n",
      "Cost of training data 107.74434631196414\n"
     ]
    }
   ],
   "source": [
    "#Test the data\n",
    "y_test_pred = predict(x_test,m,c)\n",
    "print(\"Test score:\",score(y_test,y_test_pred))\n",
    "y_train_pred = predict(x_train,m,c)\n",
    "print(\"Train score:\",score(y_train,y_train_pred))\n",
    "print(\"m,c\", m, c)\n",
    "print(\"Cost of training data\",cost(x_train,y_train,m,c))"
   ]
  }
 ],
 "metadata": {
  "kernelspec": {
   "display_name": "Python 3",
   "language": "python",
   "name": "python3"
  },
  "language_info": {
   "codemirror_mode": {
    "name": "ipython",
    "version": 3
   },
   "file_extension": ".py",
   "mimetype": "text/x-python",
   "name": "python",
   "nbconvert_exporter": "python",
   "pygments_lexer": "ipython3",
   "version": "3.8.5"
  }
 },
 "nbformat": 4,
 "nbformat_minor": 4
}
