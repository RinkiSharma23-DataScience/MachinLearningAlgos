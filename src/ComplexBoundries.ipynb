{
 "cells": [
  {
   "cell_type": "code",
   "execution_count": 5,
   "metadata": {},
   "outputs": [],
   "source": [
    "from sklearn import datasets\n",
    "boston = datasets.load_boston()\n"
   ]
  },
  {
   "cell_type": "code",
   "execution_count": 7,
   "metadata": {},
   "outputs": [
    {
     "data": {
      "text/plain": [
       "(506, 13)"
      ]
     },
     "execution_count": 7,
     "metadata": {},
     "output_type": "execute_result"
    }
   ],
   "source": [
    "# Getting the data from the boston sklearn dataset library\n",
    "x = boston.data\n",
    "y = boston.target\n",
    "x.shape"
   ]
  },
  {
   "cell_type": "code",
   "execution_count": 43,
   "metadata": {},
   "outputs": [
    {
     "name": "stdout",
     "output_type": "stream",
     "text": [
      "['CRIM' 'ZN' 'INDUS' 'CHAS' 'NOX' 'RM' 'AGE' 'DIS' 'RAD' 'TAX' 'PTRATIO'\n",
      " 'B' 'LSTAT']\n"
     ]
    },
    {
     "data": {
      "text/plain": [
       "(506, 14)"
      ]
     },
     "execution_count": 43,
     "metadata": {},
     "output_type": "execute_result"
    }
   ],
   "source": [
    "import pandas as pd\n",
    "df = pd.DataFrame(x)\n",
    "#Taking all the feature names and printing them\n",
    "print(boston.feature_names)\n",
    "df.columns = boston.feature_names\n",
    "#Doing the Square of the Age column\n",
    "df['age_age'] = df.AGE **2\n",
    "df.describe()\n",
    "#Creating the new dataFrame so that the new column also can have in the datasets\n",
    "x2 = df.values\n",
    "x2.shape"
   ]
  },
  {
   "cell_type": "code",
   "execution_count": 16,
   "metadata": {},
   "outputs": [
    {
     "name": "stdout",
     "output_type": "stream",
     "text": [
      "(379, 13)\n",
      "(379,)\n"
     ]
    }
   ],
   "source": [
    "from sklearn import model_selection\n",
    "model_selection.train_test_split(x,y)\n",
    "#Spliting the datasets into training and testing data\n",
    "x_train, x_test,y_train,y_test = model_selection.train_test_split(x,y,random_state =0)\n",
    "#We have added one parameter \"random_state =0\" so that both the data sets take the same random selection in x_train or x2_train\n",
    "x2_train, x2_test,y2_train,y2_test = model_selection.train_test_split(x2,y,random_state =0)\n",
    "print(x_train.shape)\n",
    "print(y_train.shape)"
   ]
  },
  {
   "cell_type": "code",
   "execution_count": 19,
   "metadata": {},
   "outputs": [
    {
     "data": {
      "text/plain": [
       "LinearRegression()"
      ]
     },
     "execution_count": 19,
     "metadata": {},
     "output_type": "execute_result"
    }
   ],
   "source": [
    "from sklearn.linear_model import LinearRegression\n",
    "# Here we are creating two objects of LinearRegression\n",
    "alg1 = LinearRegression()\n",
    "alg2 = LinearRegression()\n",
    "alg1.fit(x_train,y_train)\n",
    "alg2.fit(x2_train,y2_train)\n",
    "\n"
   ]
  },
  {
   "cell_type": "code",
   "execution_count": 21,
   "metadata": {},
   "outputs": [
    {
     "data": {
      "text/plain": [
       "LinearRegression(n_jobs=1)"
      ]
     },
     "execution_count": 21,
     "metadata": {},
     "output_type": "execute_result"
    }
   ],
   "source": [
    "LinearRegression(copy_X=True,fit_intercept=True,n_jobs=1,normalize=False)"
   ]
  },
  {
   "cell_type": "code",
   "execution_count": 22,
   "metadata": {},
   "outputs": [
    {
     "name": "stdout",
     "output_type": "stream",
     "text": [
      "Train Score: 0.7697699488741149\n",
      "Test Score: 0.6354638433202118\n",
      "Train2 Score: 0.7697699488741149\n",
      "Test2 Score: 0.6354638433202118\n"
     ]
    }
   ],
   "source": [
    "y_pred = alg1.predict(x_test)\n",
    "# we are getting the testing and training score for without age_age column\n",
    "train_score = alg1.score(x_train,y_train)\n",
    "test_score = alg1.score(x_test,y_test)\n",
    "print(\"Train Score:\",train_score)\n",
    "print(\"Test Score:\",test_score)\n",
    "# we are getting the testing and training score for age_age column\n",
    "train2_score = alg2.score(x2_train,y2_train)\n",
    "test2_score = alg2.score(x2_test,y2_test)\n",
    "print(\"Train2 Score:\",train_score)\n",
    "print(\"Test2 Score:\",test_score)"
   ]
  },
  {
   "cell_type": "code",
   "execution_count": 11,
   "metadata": {},
   "outputs": [
    {
     "data": {
      "image/png": "[encoded data removed]",
      "text/plain": [
       "<Figure size 432x288 with 1 Axes>"
      ]
     },
     "metadata": {
      "needs_background": "light"
     },
     "output_type": "display_data"
    },
    {
     "data": {
      "text/plain": [
       "(0.0, 40.0, 0.0, 40.0)"
      ]
     },
     "execution_count": 11,
     "metadata": {},
     "output_type": "execute_result"
    },
    {
     "data": {
      "image/png": "[encoded data removed]",
      "text/plain": [
       "<Figure size 432x288 with 1 Axes>"
      ]
     },
     "metadata": {
      "needs_background": "light"
     },
     "output_type": "display_data"
    }
   ],
   "source": [
    "import matplotlib.pyplot as plt\n",
    "# Ploting the predicted data\n",
    "plt.scatter(y_pred,y_test)\n",
    "plt.show()\n",
    "plt.axis([0,40,0,40])"
   ]
  }
 ],
 "metadata": {
  "kernelspec": {
   "display_name": "Python 3",
   "language": "python",
   "name": "python3"
  },
  "language_info": {
   "codemirror_mode": {
    "name": "ipython",
    "version": 3
   },
   "file_extension": ".py",
   "mimetype": "text/x-python",
   "name": "python",
   "nbconvert_exporter": "python",
   "pygments_lexer": "ipython3",
   "version": "3.8.5"
  }
 },
 "nbformat": 4,
 "nbformat_minor": 4
}
